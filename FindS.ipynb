{
 "cells": [
  {
   "cell_type": "code",
   "execution_count": 2,
   "id": "0f5ce6ad-be83-4555-8c95-f7d70fe751bc",
   "metadata": {},
   "outputs": [],
   "source": [
    "import pandas as pd\n",
    "EnjoySport={'sky':['sunny','sunny','rainy','sunny'],\n",
    "            'Airtemp':['warm','warm','cold','warm'],\n",
    "            'Humidity':['normal','high','high','high'],\n",
    "            'Wind':['strong','strong','strong','strong'],\n",
    "            'water':['warm','warm','warm','cold'],\n",
    "            'forecast':['same','same','change','change'],\n",
    "            'enjoysport':['yes','yes','no','yes']\n",
    "           }"
   ]
  },
  {
   "cell_type": "code",
   "execution_count": 3,
   "id": "5db3b691-44bf-4cae-ba5f-2561bec7080b",
   "metadata": {},
   "outputs": [
    {
     "data": {
      "text/html": [
       "<div>\n",
       "<style scoped>\n",
       "    .dataframe tbody tr th:only-of-type {\n",
       "        vertical-align: middle;\n",
       "    }\n",
       "\n",
       "    .dataframe tbody tr th {\n",
       "        vertical-align: top;\n",
       "    }\n",
       "\n",
       "    .dataframe thead th {\n",
       "        text-align: right;\n",
       "    }\n",
       "</style>\n",
       "<table border=\"1\" class=\"dataframe\">\n",
       "  <thead>\n",
       "    <tr style=\"text-align: right;\">\n",
       "      <th></th>\n",
       "      <th>sky</th>\n",
       "      <th>Airtemp</th>\n",
       "      <th>Humidity</th>\n",
       "      <th>Wind</th>\n",
       "      <th>water</th>\n",
       "      <th>forecast</th>\n",
       "      <th>enjoysport</th>\n",
       "    </tr>\n",
       "  </thead>\n",
       "  <tbody>\n",
       "    <tr>\n",
       "      <th>0</th>\n",
       "      <td>sunny</td>\n",
       "      <td>warm</td>\n",
       "      <td>normal</td>\n",
       "      <td>strong</td>\n",
       "      <td>warm</td>\n",
       "      <td>same</td>\n",
       "      <td>yes</td>\n",
       "    </tr>\n",
       "    <tr>\n",
       "      <th>1</th>\n",
       "      <td>sunny</td>\n",
       "      <td>warm</td>\n",
       "      <td>high</td>\n",
       "      <td>strong</td>\n",
       "      <td>warm</td>\n",
       "      <td>same</td>\n",
       "      <td>yes</td>\n",
       "    </tr>\n",
       "    <tr>\n",
       "      <th>2</th>\n",
       "      <td>rainy</td>\n",
       "      <td>cold</td>\n",
       "      <td>high</td>\n",
       "      <td>strong</td>\n",
       "      <td>warm</td>\n",
       "      <td>change</td>\n",
       "      <td>no</td>\n",
       "    </tr>\n",
       "    <tr>\n",
       "      <th>3</th>\n",
       "      <td>sunny</td>\n",
       "      <td>warm</td>\n",
       "      <td>high</td>\n",
       "      <td>strong</td>\n",
       "      <td>cold</td>\n",
       "      <td>change</td>\n",
       "      <td>yes</td>\n",
       "    </tr>\n",
       "  </tbody>\n",
       "</table>\n",
       "</div>"
      ],
      "text/plain": [
       "     sky Airtemp Humidity    Wind water forecast enjoysport\n",
       "0  sunny    warm   normal  strong  warm     same        yes\n",
       "1  sunny    warm     high  strong  warm     same        yes\n",
       "2  rainy    cold     high  strong  warm   change         no\n",
       "3  sunny    warm     high  strong  cold   change        yes"
      ]
     },
     "execution_count": 3,
     "metadata": {},
     "output_type": "execute_result"
    }
   ],
   "source": [
    "df=pd.DataFrame.from_dict(EnjoySport)\n",
    "df"
   ]
  },
  {
   "cell_type": "code",
   "execution_count": 4,
   "id": "c59e3aee-6ea8-4e4a-9b59-6edb422d901d",
   "metadata": {},
   "outputs": [
    {
     "data": {
      "text/plain": [
       "array([['sunny', 'warm', 'normal', 'strong', 'warm', 'same', 'yes'],\n",
       "       ['sunny', 'warm', 'high', 'strong', 'warm', 'same', 'yes'],\n",
       "       ['rainy', 'cold', 'high', 'strong', 'warm', 'change', 'no'],\n",
       "       ['sunny', 'warm', 'high', 'strong', 'cold', 'change', 'yes']],\n",
       "      dtype=object)"
      ]
     },
     "execution_count": 4,
     "metadata": {},
     "output_type": "execute_result"
    }
   ],
   "source": [
    "a=df.to_numpy()\n",
    "a"
   ]
  },
  {
   "cell_type": "code",
   "execution_count": 5,
   "id": "aa7a9e87-09c4-43cf-a7fc-08a0c50bf077",
   "metadata": {},
   "outputs": [
    {
     "name": "stdout",
     "output_type": "stream",
     "text": [
      "For training instance no:0 the hypothesis is: ['sunny', 'warm', 'normal', 'strong', 'warm', 'same']\n",
      "For training instance no:1 the hypothesis is: ['sunny', 'warm', '?', 'strong', 'warm', 'same']\n",
      "For training instance no:2 the hypothesis is: ['sunny', 'warm', '?', 'strong', 'warm', 'same']\n",
      "For training instance no:3 the hypothesis is: ['sunny', 'warm', '?', 'strong', '?', '?']\n"
     ]
    }
   ],
   "source": [
    "nu=6\n",
    "h=[0]*nu\n",
    "for j in range(nu):\n",
    "    h[j]=a[0][j]\n",
    "for i in range(0,len(a)):\n",
    "    if a[i][nu]=='yes':\n",
    "        for j in range(0,nu):\n",
    "            if a[i][j]!=h[j]:\n",
    "                h[j]='?'\n",
    "            else:\n",
    "                h[j]=a[i][j]\n",
    "    print(\"For training instance no:{0} the hypothesis is:\".format(i),h)"
   ]
  },
  {
   "cell_type": "code",
   "execution_count": 6,
   "id": "5da8ade8-7c36-41cc-82ef-90287c3e614a",
   "metadata": {},
   "outputs": [
    {
     "name": "stdout",
     "output_type": "stream",
     "text": [
      "\n",
      " The maximally specific hypothesis for given training examples:\n",
      "['sunny', 'warm', '?', 'strong', '?', '?']\n"
     ]
    }
   ],
   "source": [
    "print(\"\\n The maximally specific hypothesis for given training examples:\")\n",
    "print(h)"
   ]
  },
  {
   "cell_type": "code",
   "execution_count": null,
   "id": "58f71d19-b8f7-4d87-81eb-425b8c1aca7b",
   "metadata": {},
   "outputs": [],
   "source": []
  }
 ],
 "metadata": {
  "kernelspec": {
   "display_name": "Python 3 (ipykernel)",
   "language": "python",
   "name": "python3"
  },
  "language_info": {
   "codemirror_mode": {
    "name": "ipython",
    "version": 3
   },
   "file_extension": ".py",
   "mimetype": "text/x-python",
   "name": "python",
   "nbconvert_exporter": "python",
   "pygments_lexer": "ipython3",
   "version": "3.11.7"
  }
 },
 "nbformat": 4,
 "nbformat_minor": 5
}
