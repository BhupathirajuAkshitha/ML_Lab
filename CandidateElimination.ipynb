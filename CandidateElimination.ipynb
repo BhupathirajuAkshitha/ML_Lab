{
 "cells": [
  {
   "cell_type": "code",
   "execution_count": 11,
   "id": "1e871108-5809-45f4-a0e1-19ced7dd6298",
   "metadata": {},
   "outputs": [
    {
     "data": {
      "text/html": [
       "<div>\n",
       "<style scoped>\n",
       "    .dataframe tbody tr th:only-of-type {\n",
       "        vertical-align: middle;\n",
       "    }\n",
       "\n",
       "    .dataframe tbody tr th {\n",
       "        vertical-align: top;\n",
       "    }\n",
       "\n",
       "    .dataframe thead th {\n",
       "        text-align: right;\n",
       "    }\n",
       "</style>\n",
       "<table border=\"1\" class=\"dataframe\">\n",
       "  <thead>\n",
       "    <tr style=\"text-align: right;\">\n",
       "      <th></th>\n",
       "      <th>sky</th>\n",
       "      <th>Airtemp</th>\n",
       "      <th>Humidity</th>\n",
       "      <th>Wind</th>\n",
       "      <th>water</th>\n",
       "      <th>forecast</th>\n",
       "      <th>enjoysport</th>\n",
       "    </tr>\n",
       "  </thead>\n",
       "  <tbody>\n",
       "    <tr>\n",
       "      <th>0</th>\n",
       "      <td>sunny</td>\n",
       "      <td>warm</td>\n",
       "      <td>normal</td>\n",
       "      <td>strong</td>\n",
       "      <td>warm</td>\n",
       "      <td>same</td>\n",
       "      <td>yes</td>\n",
       "    </tr>\n",
       "    <tr>\n",
       "      <th>1</th>\n",
       "      <td>sunny</td>\n",
       "      <td>warm</td>\n",
       "      <td>high</td>\n",
       "      <td>strong</td>\n",
       "      <td>warm</td>\n",
       "      <td>same</td>\n",
       "      <td>yes</td>\n",
       "    </tr>\n",
       "    <tr>\n",
       "      <th>2</th>\n",
       "      <td>rainy</td>\n",
       "      <td>cold</td>\n",
       "      <td>high</td>\n",
       "      <td>strong</td>\n",
       "      <td>warm</td>\n",
       "      <td>change</td>\n",
       "      <td>no</td>\n",
       "    </tr>\n",
       "    <tr>\n",
       "      <th>3</th>\n",
       "      <td>sunny</td>\n",
       "      <td>warm</td>\n",
       "      <td>high</td>\n",
       "      <td>strong</td>\n",
       "      <td>cold</td>\n",
       "      <td>change</td>\n",
       "      <td>yes</td>\n",
       "    </tr>\n",
       "  </tbody>\n",
       "</table>\n",
       "</div>"
      ],
      "text/plain": [
       "     sky Airtemp Humidity    Wind water forecast enjoysport\n",
       "0  sunny    warm   normal  strong  warm     same        yes\n",
       "1  sunny    warm     high  strong  warm     same        yes\n",
       "2  rainy    cold     high  strong  warm   change         no\n",
       "3  sunny    warm     high  strong  cold   change        yes"
      ]
     },
     "execution_count": 11,
     "metadata": {},
     "output_type": "execute_result"
    }
   ],
   "source": [
    "import pandas as pd\n",
    "import numpy as np\n",
    "EnjoySport={'sky':['sunny','sunny','rainy','sunny'],\n",
    "            'Airtemp':['warm','warm','cold','warm'],\n",
    "            'Humidity':['normal','high','high','high'],\n",
    "            'Wind':['strong','strong','strong','strong'],\n",
    "            'water':['warm','warm','warm','cold'],\n",
    "            'forecast':['same','same','change','change'],\n",
    "            'enjoysport':['yes','yes','no','yes']\n",
    "           }\n",
    "df=pd.DataFrame.from_dict(EnjoySport)\n",
    "df"
   ]
  },
  {
   "cell_type": "code",
   "execution_count": 12,
   "id": "5e4c5558-efba-4a98-a133-cf25ff91d25a",
   "metadata": {},
   "outputs": [
    {
     "data": {
      "text/plain": [
       "(array([['sunny', 'warm', 'normal', 'strong', 'warm', 'same'],\n",
       "        ['sunny', 'warm', 'high', 'strong', 'warm', 'same'],\n",
       "        ['rainy', 'cold', 'high', 'strong', 'warm', 'change'],\n",
       "        ['sunny', 'warm', 'high', 'strong', 'cold', 'change']],\n",
       "       dtype=object),\n",
       " array(['yes', 'yes', 'no', 'yes'], dtype=object))"
      ]
     },
     "execution_count": 12,
     "metadata": {},
     "output_type": "execute_result"
    }
   ],
   "source": [
    "concepts=np.array(df.iloc[:,0:-1])\n",
    "target=np.array(df.iloc[:,-1])\n",
    "concepts,target"
   ]
  },
  {
   "cell_type": "code",
   "execution_count": 13,
   "id": "b9116c16-4b9b-4478-9f5a-538a44ec3a92",
   "metadata": {},
   "outputs": [
    {
     "name": "stdout",
     "output_type": "stream",
     "text": [
      "Initialization of Specific and General Hypothesis\n",
      "Steps for CE 1\n",
      "['sunny' 'warm' 'normal' 'strong' 'warm' 'same']\n",
      "[['?', '?', '?', '?', '?', '?'], ['?', '?', '?', '?', '?', '?'], ['?', '?', '?', '?', '?', '?'], ['?', '?', '?', '?', '?', '?'], ['?', '?', '?', '?', '?', '?'], ['?', '?', '?', '?', '?', '?']]\n",
      "Steps for CE 2\n",
      "['sunny' 'warm' '?' 'strong' 'warm' 'same']\n",
      "[['?', '?', '?', '?', '?', '?'], ['?', '?', '?', '?', '?', '?'], ['?', '?', '?', '?', '?', '?'], ['?', '?', '?', '?', '?', '?'], ['?', '?', '?', '?', '?', '?'], ['?', '?', '?', '?', '?', '?']]\n",
      "Steps for CE 3\n",
      "['sunny' 'warm' '?' 'strong' 'warm' 'same']\n",
      "[['sunny', '?', '?', '?', '?', '?'], ['?', 'warm', '?', '?', '?', '?'], ['?', '?', '?', '?', '?', '?'], ['?', '?', '?', '?', '?', '?'], ['?', '?', '?', '?', '?', '?'], ['?', '?', '?', '?', '?', 'same']]\n",
      "Steps for CE 4\n",
      "['sunny' 'warm' '?' 'strong' '?' '?']\n",
      "[['sunny', '?', '?', '?', '?', '?'], ['?', 'warm', '?', '?', '?', '?'], ['?', '?', '?', '?', '?', '?'], ['?', '?', '?', '?', '?', '?'], ['?', '?', '?', '?', '?', '?'], ['?', '?', '?', '?', '?', '?']]\n",
      "Final specific_h:\n",
      "['sunny' 'warm' '?' 'strong' '?' '?']\n",
      "Final general_h:\n",
      "[['sunny', '?', '?', '?', '?', '?'], ['?', 'warm', '?', '?', '?', '?']]\n"
     ]
    }
   ],
   "source": [
    "def learn(concepts,target):\n",
    "    specific_h=concepts[0].copy()\n",
    "    print(\"Initialization of Specific and General Hypothesis\")\n",
    "    general_h=[[\"?\" for i in range(len(specific_h))]for i in range(len(specific_h))]\n",
    "    for i,h in enumerate(concepts):\n",
    "        if target[i]==\"yes\":\n",
    "            for x in range(len(specific_h)):\n",
    "                if h[x]!=specific_h[x]:\n",
    "                    specific_h[x]='?'\n",
    "                    general_h[x][x]='?'\n",
    "                specific_h\n",
    "        specific_h\n",
    "        if target[i]==\"no\":\n",
    "            for x in range(len(specific_h)):\n",
    "                if h[x]!=specific_h[x]:\n",
    "                    general_h[x][x]=specific_h[x]\n",
    "                else:\n",
    "                    general_h[x][x]='?'\n",
    "        print(\"Steps for CE\",i+1)\n",
    "        print(specific_h,sep=\"\\n\")\n",
    "        print(general_h)\n",
    "    indices=[i for i, val in enumerate(general_h) if val==['?','?','?','?','?','?']]\n",
    "    for i in indices:\n",
    "        general_h.remove(['?','?','?','?','?','?'])\n",
    "    return specific_h,general_h\n",
    "s_final,g_final=learn(concepts,target)\n",
    "print(\"Final specific_h:\",s_final,sep=\"\\n\")\n",
    "print(\"Final general_h:\",g_final,sep=\"\\n\")"
   ]
  },
  {
   "cell_type": "code",
   "execution_count": null,
   "id": "00a1d9c3-0fd5-49e0-847c-58989b48778c",
   "metadata": {},
   "outputs": [],
   "source": []
  }
 ],
 "metadata": {
  "kernelspec": {
   "display_name": "Python 3 (ipykernel)",
   "language": "python",
   "name": "python3"
  },
  "language_info": {
   "codemirror_mode": {
    "name": "ipython",
    "version": 3
   },
   "file_extension": ".py",
   "mimetype": "text/x-python",
   "name": "python",
   "nbconvert_exporter": "python",
   "pygments_lexer": "ipython3",
   "version": "3.11.7"
  }
 },
 "nbformat": 4,
 "nbformat_minor": 5
}
